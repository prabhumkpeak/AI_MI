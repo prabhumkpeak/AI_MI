{
 "cells": [
  {
   "cell_type": "markdown",
   "id": "2590683f",
   "metadata": {},
   "source": [
    "Netflix Shows and Movies - Exploratory Analysis"
   ]
  },
  {
   "cell_type": "markdown",
   "id": "d7d8c72c",
   "metadata": {},
   "source": [
    "Import Libraries"
   ]
  },
  {
   "cell_type": "code",
   "execution_count": 2,
   "id": "30934633",
   "metadata": {},
   "outputs": [],
   "source": [
    "import pandas as pd\n",
    "import numpy as np\n",
    "import matplotlib.pyplot as plt\n",
    "import seaborn as sns\n",
    "import warnings\n",
    "warnings.filterwarnings('ignore')\n",
    "\n",
    "%matplotlib inline\n"
   ]
  },
  {
   "cell_type": "markdown",
   "id": "1591143e",
   "metadata": {},
   "source": [
    "Load Netflix dataset"
   ]
  },
  {
   "cell_type": "code",
   "execution_count": 7,
   "id": "8741e564",
   "metadata": {},
   "outputs": [
    {
     "name": "stdout",
     "output_type": "stream",
     "text": [
      "Dataset loaded successfully!\n"
     ]
    }
   ],
   "source": [
    "path = \"C:/AI-ML/AI_MI_Career/datasets/netflix_titles_nov_2019.csv\"\n",
    "netflix = pd.read_csv(path)\n",
    "print(\"Dataset loaded successfully!\")\n"
   ]
  },
  {
   "cell_type": "code",
   "execution_count": 6,
   "id": "6688ec79",
   "metadata": {},
   "outputs": [
    {
     "name": "stdout",
     "output_type": "stream",
     "text": [
      "<class 'pandas.core.frame.DataFrame'>\n",
      "RangeIndex: 5837 entries, 0 to 5836\n",
      "Data columns (total 12 columns):\n",
      " #   Column        Non-Null Count  Dtype \n",
      "---  ------        --------------  ----- \n",
      " 0   show_id       5837 non-null   int64 \n",
      " 1   title         5837 non-null   object\n",
      " 2   director      3936 non-null   object\n",
      " 3   cast          5281 non-null   object\n",
      " 4   country       5410 non-null   object\n",
      " 5   date_added    5195 non-null   object\n",
      " 6   release_year  5837 non-null   int64 \n",
      " 7   rating        5827 non-null   object\n",
      " 8   duration      5837 non-null   object\n",
      " 9   listed_in     5837 non-null   object\n",
      " 10  description   5837 non-null   object\n",
      " 11  type          5837 non-null   object\n",
      "dtypes: int64(2), object(10)\n",
      "memory usage: 547.3+ KB\n"
     ]
    }
   ],
   "source": [
    "netflix.info()"
   ]
  },
  {
   "cell_type": "markdown",
   "id": "b9752107",
   "metadata": {},
   "source": [
    "1. Basic Data Understanding\n",
    "- How many total records are there?\n",
    "- What are the data types of each column?\n",
    "- Are there any missing/null values?\n",
    "- Count of unique values per column."
   ]
  },
  {
   "cell_type": "code",
   "execution_count": 14,
   "id": "0aaab563",
   "metadata": {},
   "outputs": [
    {
     "name": "stdout",
     "output_type": "stream",
     "text": [
      "Total records: 5837\n",
      "Data types of each column:\n",
      "show_id          int64\n",
      "title           object\n",
      "director        object\n",
      "cast            object\n",
      "country         object\n",
      "date_added      object\n",
      "release_year     int64\n",
      "rating          object\n",
      "duration        object\n",
      "listed_in       object\n",
      "description     object\n",
      "type            object\n",
      "dtype: object\n"
     ]
    }
   ],
   "source": [
    "#How many total records are there?\n",
    "total_records = netflix.shape[0]\n",
    "print(f\"Total records: {total_records}\")\n",
    "#What are the data types of each column?\n",
    "data_types = netflix.dtypes\n",
    "print(\"Data types of each column:\")\n",
    "print(data_types)"
   ]
  },
  {
   "cell_type": "code",
   "execution_count": 15,
   "id": "3311fabb",
   "metadata": {},
   "outputs": [
    {
     "name": "stdout",
     "output_type": "stream",
     "text": [
      "Missing values in each column:\n",
      "show_id            0\n",
      "title              0\n",
      "director        1901\n",
      "cast             556\n",
      "country          427\n",
      "date_added       642\n",
      "release_year       0\n",
      "rating            10\n",
      "duration           0\n",
      "listed_in          0\n",
      "description        0\n",
      "type               0\n",
      "dtype: int64\n"
     ]
    }
   ],
   "source": [
    "#Are there any missing/null values?\n",
    "missing_values = netflix.isnull().sum()\n",
    "print(\"Missing values in each column:\")\n",
    "print(missing_values)"
   ]
  },
  {
   "cell_type": "code",
   "execution_count": null,
   "id": "99188914",
   "metadata": {},
   "outputs": [
    {
     "name": "stdout",
     "output_type": "stream",
     "text": [
      "Count of unique values per column:\n",
      "show_id         5837\n",
      "title           5780\n",
      "director        3108\n",
      "cast            5087\n",
      "country          527\n",
      "date_added      1092\n",
      "release_year      71\n",
      "rating            14\n",
      "duration         194\n",
      "listed_in        449\n",
      "description     5829\n",
      "type               2\n",
      "dtype: int64\n"
     ]
    }
   ],
   "source": [
    "#Count of unique values per column.\n",
    "unique_counts = netflix.nunique()\n",
    "print(\"Count of unique values per column:\")\n",
    "print(unique_counts)"
   ]
  },
  {
   "cell_type": "markdown",
   "id": "8ca24831",
   "metadata": {},
   "source": [
    "TASK 2: \n",
    "- How many unique titles, directors, and countries are there?\n",
    "- Identify any columns with missing values and their percentages.\n",
    "- Count how many entries fall under each type: Movie or TV Show."
   ]
  },
  {
   "cell_type": "code",
   "execution_count": 28,
   "id": "c94b2fb5",
   "metadata": {},
   "outputs": [
    {
     "name": "stdout",
     "output_type": "stream",
     "text": [
      "Unique counts for titles, directors, and countries:\n",
      "title       5780\n",
      "director    3108\n",
      "country      527\n",
      "dtype: int64\n"
     ]
    }
   ],
   "source": [
    "#How many unique titles, directors, and countries are there?\n",
    "unique_counts = netflix[['title', 'director', 'country']].nunique()\n",
    "print(\"Unique counts for titles, directors, and countries:\")\n",
    "print(unique_counts)\n"
   ]
  },
  {
   "cell_type": "code",
   "execution_count": 30,
   "id": "20c632b6",
   "metadata": {},
   "outputs": [
    {
     "name": "stdout",
     "output_type": "stream",
     "text": [
      "Percentage of missing values in each column:\n",
      "show_id          0.000000\n",
      "title            0.000000\n",
      "director        32.568100\n",
      "cast             9.525441\n",
      "country          7.315402\n",
      "date_added      10.998801\n",
      "release_year     0.000000\n",
      "rating           0.171321\n",
      "duration         0.000000\n",
      "listed_in        0.000000\n",
      "description      0.000000\n",
      "type             0.000000\n",
      "dtype: float64\n"
     ]
    }
   ],
   "source": [
    "#Identify any columns with missing values and their percentages.\n",
    "missing_percentage = netflix.isnull().mean() * 100\n",
    "print(\"Percentage of missing values in each column:\")\n",
    "print(missing_percentage)"
   ]
  },
  {
   "cell_type": "code",
   "execution_count": null,
   "id": "723ad4bf",
   "metadata": {},
   "outputs": [
    {
     "name": "stdout",
     "output_type": "stream",
     "text": [
      "type\n",
      "Movie      3939\n",
      "TV Show    1898\n",
      "Name: count, dtype: int64\n"
     ]
    },
    {
     "data": {
      "image/png": "[encoded data removed]",
      "text/plain": [
       "<Figure size 640x480 with 1 Axes>"
      ]
     },
     "metadata": {},
     "output_type": "display_data"
    }
   ],
   "source": [
    "#Show the distribution of content by type (Movie vs TV Show).\n",
    "print(netflix['type'].value_counts())\n",
    "sns.countplot(data=netflix, x='type', order=netflix['type'].value_counts().index, \n",
    "    palette='viridis',legend=False)\n",
    "plt.title('Count of Movies and TV Shows')\n",
    "plt.xlabel('Type')\n",
    "plt.ylabel('Count')\n",
    "plt.show()\n"
   ]
  },
  {
   "cell_type": "markdown",
   "id": "4e38fe81",
   "metadata": {},
   "source": [
    "TASK 3 : Content Distribution\n",
    "- Find the top 5 most common genres (listed_in) across all content.\n",
    "- What are the top 10 countries with the most content on Netflix?"
   ]
  },
  {
   "cell_type": "code",
   "execution_count": null,
   "id": "3e69615a",
   "metadata": {},
   "outputs": [
    {
     "name": "stdout",
     "output_type": "stream",
     "text": [
      "Top 5 most common genres:\n",
      "listed_in\n",
      "International Movies      1797\n",
      "Dramas                    1488\n",
      "Comedies                   992\n",
      "International TV Shows     966\n",
      "Documentaries              658\n",
      "TV Dramas                  574\n",
      "Action & Adventure         532\n",
      "Independent Movies         516\n",
      "TV Comedies                425\n",
      "Crime TV Shows             355\n",
      "Name: count, dtype: int64\n"
     ]
    },
    {
     "data": {
      "image/png": "[encoded data removed]",
      "text/plain": [
       "<Figure size 1200x600 with 1 Axes>"
      ]
     },
     "metadata": {},
     "output_type": "display_data"
    }
   ],
   "source": [
    "#Find the top 5 most common genres (listed_in) across all content.\n",
    "top_genres = netflix['listed_in'].str.split(', ').explode().value_counts().head(10)\n",
    "print(\"Top 5 most common genres:\") \n",
    "print(top_genres)\n",
    "plt.figure(figsize=(12, 6))\n",
    "sns.barplot(x=top_genres.values, y=top_genres.index, palette='viridis')\n",
    "plt.xticks(rotation=10)\n",
    "plt.title('Top 10 Most Common Genres')\n",
    "plt.xlabel('Genres')\n",
    "plt.ylabel('Count')\n",
    "plt.show()\n"
   ]
  },
  {
   "cell_type": "code",
   "execution_count": 51,
   "id": "5ba44e8f",
   "metadata": {},
   "outputs": [
    {
     "data": {
      "text/html": [
       "<div>\n",
       "<style scoped>\n",
       "    .dataframe tbody tr th:only-of-type {\n",
       "        vertical-align: middle;\n",
       "    }\n",
       "\n",
       "    .dataframe tbody tr th {\n",
       "        vertical-align: top;\n",
       "    }\n",
       "\n",
       "    .dataframe thead th {\n",
       "        text-align: right;\n",
       "    }\n",
       "</style>\n",
       "<table border=\"1\" class=\"dataframe\">\n",
       "  <thead>\n",
       "    <tr style=\"text-align: right;\">\n",
       "      <th></th>\n",
       "      <th>show_id</th>\n",
       "      <th>title</th>\n",
       "      <th>director</th>\n",
       "      <th>cast</th>\n",
       "      <th>country</th>\n",
       "      <th>date_added</th>\n",
       "      <th>release_year</th>\n",
       "      <th>rating</th>\n",
       "      <th>duration</th>\n",
       "      <th>listed_in</th>\n",
       "      <th>description</th>\n",
       "      <th>type</th>\n",
       "    </tr>\n",
       "  </thead>\n",
       "  <tbody>\n",
       "    <tr>\n",
       "      <th>0</th>\n",
       "      <td>81193313</td>\n",
       "      <td>Chocolate</td>\n",
       "      <td>NaN</td>\n",
       "      <td>Ha Ji-won, Yoon Kye-sang, Jang Seung-jo, Kang ...</td>\n",
       "      <td>South Korea</td>\n",
       "      <td>November 30, 2019</td>\n",
       "      <td>2019</td>\n",
       "      <td>TV-14</td>\n",
       "      <td>1 Season</td>\n",
       "      <td>International TV Shows, Korean TV Shows, Roman...</td>\n",
       "      <td>Brought together by meaningful meals in the pa...</td>\n",
       "      <td>TV Show</td>\n",
       "    </tr>\n",
       "    <tr>\n",
       "      <th>1</th>\n",
       "      <td>81197050</td>\n",
       "      <td>Guatemala: Heart of the Mayan World</td>\n",
       "      <td>Luis Ara, Ignacio Jaunsolo</td>\n",
       "      <td>Christian Morales</td>\n",
       "      <td>NaN</td>\n",
       "      <td>November 30, 2019</td>\n",
       "      <td>2019</td>\n",
       "      <td>TV-G</td>\n",
       "      <td>67 min</td>\n",
       "      <td>Documentaries, International Movies</td>\n",
       "      <td>From Sierra de las Minas to Esquipulas, explor...</td>\n",
       "      <td>Movie</td>\n",
       "    </tr>\n",
       "  </tbody>\n",
       "</table>\n",
       "</div>"
      ],
      "text/plain": [
       "    show_id                                title                    director  \\\n",
       "0  81193313                            Chocolate                         NaN   \n",
       "1  81197050  Guatemala: Heart of the Mayan World  Luis Ara, Ignacio Jaunsolo   \n",
       "\n",
       "                                                cast      country  \\\n",
       "0  Ha Ji-won, Yoon Kye-sang, Jang Seung-jo, Kang ...  South Korea   \n",
       "1                                  Christian Morales          NaN   \n",
       "\n",
       "          date_added  release_year rating  duration  \\\n",
       "0  November 30, 2019          2019  TV-14  1 Season   \n",
       "1  November 30, 2019          2019   TV-G    67 min   \n",
       "\n",
       "                                           listed_in  \\\n",
       "0  International TV Shows, Korean TV Shows, Roman...   \n",
       "1                Documentaries, International Movies   \n",
       "\n",
       "                                         description     type  \n",
       "0  Brought together by meaningful meals in the pa...  TV Show  \n",
       "1  From Sierra de las Minas to Esquipulas, explor...    Movie  "
      ]
     },
     "execution_count": 51,
     "metadata": {},
     "output_type": "execute_result"
    }
   ],
   "source": [
    "netflix.head(2)"
   ]
  },
  {
   "cell_type": "code",
   "execution_count": null,
   "id": "1f37e29b",
   "metadata": {},
   "outputs": [
    {
     "name": "stdout",
     "output_type": "stream",
     "text": [
      "     country                  listed_in\n",
      "0  Argentina     International TV Shows\n",
      "0  Argentina                 Reality TV\n",
      "0  Argentina  Spanish-Language TV Shows\n",
      "0  Argentina   Children & Family Movies\n",
      "0  Argentina           Music & Musicals\n",
      "Top 10 countries with the most content on Netflix:\n",
      "country\n",
      "United States     3358\n",
      "India             1884\n",
      "United Kingdom     774\n",
      "Japan              406\n",
      "South Korea        380\n",
      "Spain              297\n",
      "Canada             269\n",
      "Turkey             206\n",
      "France             203\n",
      "Taiwan             197\n",
      "Name: count, dtype: int64\n"
     ]
    }
   ],
   "source": [
    "countries_genres = netflix.groupby('country')['listed_in'].apply(lambda x: ', '.join(x)).reset_index()\n",
    "countries_genres['listed_in'] = countries_genres['listed_in'].str.split(', ')\n",
    "countries_genres = countries_genres.explode('listed_in')\n",
    "top_countries_genres = countries_genres['country'].value_counts().head(10)\n",
    "print(\"Top 10 countries with the most content on Netflix:\")\n",
    "print(top_countries_genres)"
   ]
  }
 ],
 "metadata": {
  "kernelspec": {
   "display_name": "IITDelhiAIML (3.13.1)",
   "language": "python",
   "name": "python3"
  },
  "language_info": {
   "codemirror_mode": {
    "name": "ipython",
    "version": 3
   },
   "file_extension": ".py",
   "mimetype": "text/x-python",
   "name": "python",
   "nbconvert_exporter": "python",
   "pygments_lexer": "ipython3",
   "version": "3.13.1"
  }
 },
 "nbformat": 4,
 "nbformat_minor": 5
}
