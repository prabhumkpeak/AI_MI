{
 "cells": [
  {
   "cell_type": "markdown",
   "id": "667496d9",
   "metadata": {},
   "source": [
    "Getting Financial Data - from Yahoo Fianace\n",
    "Introduction:\n",
    "This time you will get data from a website."
   ]
  },
  {
   "cell_type": "code",
   "execution_count": 8,
   "id": "91325bcc",
   "metadata": {},
   "outputs": [
    {
     "name": "stdout",
     "output_type": "stream",
     "text": [
      "Collecting yfinanceNote: you may need to restart the kernel to use updated packages.\n"
     ]
    },
    {
     "name": "stderr",
     "output_type": "stream",
     "text": [
      "\n",
      "[notice] A new release of pip is available: 25.0 -> 25.1.1\n",
      "[notice] To update, run: python.exe -m pip install --upgrade pip\n"
     ]
    },
    {
     "name": "stdout",
     "output_type": "stream",
     "text": [
      "\n",
      "  Downloading yfinance-0.2.65-py2.py3-none-any.whl.metadata (5.8 kB)\n",
      "Requirement already satisfied: pandas>=1.3.0 in c:\\users\\admin\\iitdelhiaiml\\lib\\site-packages (from yfinance) (2.2.3)\n",
      "Requirement already satisfied: numpy>=1.16.5 in c:\\users\\admin\\iitdelhiaiml\\lib\\site-packages (from yfinance) (2.2.2)\n",
      "Requirement already satisfied: requests>=2.31 in c:\\users\\admin\\iitdelhiaiml\\lib\\site-packages (from yfinance) (2.32.4)\n",
      "Collecting multitasking>=0.0.7 (from yfinance)\n",
      "  Downloading multitasking-0.0.12.tar.gz (19 kB)\n",
      "  Installing build dependencies: started\n",
      "  Installing build dependencies: finished with status 'done'\n",
      "  Getting requirements to build wheel: started\n",
      "  Getting requirements to build wheel: finished with status 'done'\n",
      "  Preparing metadata (pyproject.toml): started\n",
      "  Preparing metadata (pyproject.toml): finished with status 'done'\n",
      "Requirement already satisfied: platformdirs>=2.0.0 in c:\\users\\admin\\iitdelhiaiml\\lib\\site-packages (from yfinance) (4.3.6)\n",
      "Requirement already satisfied: pytz>=2022.5 in c:\\users\\admin\\iitdelhiaiml\\lib\\site-packages (from yfinance) (2024.2)\n",
      "Collecting frozendict>=2.3.4 (from yfinance)\n",
      "  Downloading frozendict-2.4.6-py313-none-any.whl.metadata (23 kB)\n",
      "Collecting peewee>=3.16.2 (from yfinance)\n",
      "  Downloading peewee-3.18.2.tar.gz (949 kB)\n",
      "     ---------------------------------------- 0.0/949.2 kB ? eta -:--:--\n",
      "     -------------------------------------- 949.2/949.2 kB 4.9 MB/s eta 0:00:00\n",
      "  Installing build dependencies: started\n",
      "  Installing build dependencies: finished with status 'done'\n",
      "  Getting requirements to build wheel: started\n",
      "  Getting requirements to build wheel: finished with status 'done'\n",
      "  Preparing metadata (pyproject.toml): started\n",
      "  Preparing metadata (pyproject.toml): finished with status 'done'\n",
      "Collecting beautifulsoup4>=4.11.1 (from yfinance)\n",
      "  Downloading beautifulsoup4-4.13.4-py3-none-any.whl.metadata (3.8 kB)\n",
      "Collecting curl_cffi>=0.7 (from yfinance)\n",
      "  Downloading curl_cffi-0.12.0-cp39-abi3-win_amd64.whl.metadata (15 kB)\n",
      "Collecting protobuf>=3.19.0 (from yfinance)\n",
      "  Downloading protobuf-6.31.1-cp310-abi3-win_amd64.whl.metadata (593 bytes)\n",
      "Collecting websockets>=13.0 (from yfinance)\n",
      "  Downloading websockets-15.0.1-cp313-cp313-win_amd64.whl.metadata (7.0 kB)\n",
      "Collecting soupsieve>1.2 (from beautifulsoup4>=4.11.1->yfinance)\n",
      "  Downloading soupsieve-2.7-py3-none-any.whl.metadata (4.6 kB)\n",
      "Collecting typing-extensions>=4.0.0 (from beautifulsoup4>=4.11.1->yfinance)\n",
      "  Downloading typing_extensions-4.14.1-py3-none-any.whl.metadata (3.0 kB)\n",
      "Collecting cffi>=1.12.0 (from curl_cffi>=0.7->yfinance)\n",
      "  Using cached cffi-1.17.1-cp313-cp313-win_amd64.whl.metadata (1.6 kB)\n",
      "Requirement already satisfied: certifi>=2024.2.2 in c:\\users\\admin\\iitdelhiaiml\\lib\\site-packages (from curl_cffi>=0.7->yfinance) (2025.7.14)\n",
      "Requirement already satisfied: python-dateutil>=2.8.2 in c:\\users\\admin\\iitdelhiaiml\\lib\\site-packages (from pandas>=1.3.0->yfinance) (2.9.0.post0)\n",
      "Requirement already satisfied: tzdata>=2022.7 in c:\\users\\admin\\iitdelhiaiml\\lib\\site-packages (from pandas>=1.3.0->yfinance) (2025.1)\n",
      "Requirement already satisfied: charset_normalizer<4,>=2 in c:\\users\\admin\\iitdelhiaiml\\lib\\site-packages (from requests>=2.31->yfinance) (3.4.2)\n",
      "Requirement already satisfied: idna<4,>=2.5 in c:\\users\\admin\\iitdelhiaiml\\lib\\site-packages (from requests>=2.31->yfinance) (3.10)\n",
      "Requirement already satisfied: urllib3<3,>=1.21.1 in c:\\users\\admin\\iitdelhiaiml\\lib\\site-packages (from requests>=2.31->yfinance) (2.5.0)\n",
      "Collecting pycparser (from cffi>=1.12.0->curl_cffi>=0.7->yfinance)\n",
      "  Using cached pycparser-2.22-py3-none-any.whl.metadata (943 bytes)\n",
      "Requirement already satisfied: six>=1.5 in c:\\users\\admin\\iitdelhiaiml\\lib\\site-packages (from python-dateutil>=2.8.2->pandas>=1.3.0->yfinance) (1.17.0)\n",
      "Downloading yfinance-0.2.65-py2.py3-none-any.whl (119 kB)\n",
      "Downloading beautifulsoup4-4.13.4-py3-none-any.whl (187 kB)\n",
      "Downloading curl_cffi-0.12.0-cp39-abi3-win_amd64.whl (1.6 MB)\n",
      "   ---------------------------------------- 0.0/1.6 MB ? eta -:--:--\n",
      "   ---------------------------------------  1.6/1.6 MB 7.8 MB/s eta 0:00:01\n",
      "   ---------------------------------------- 1.6/1.6 MB 6.8 MB/s eta 0:00:00\n",
      "Downloading frozendict-2.4.6-py313-none-any.whl (16 kB)\n",
      "Downloading protobuf-6.31.1-cp310-abi3-win_amd64.whl (435 kB)\n",
      "Downloading websockets-15.0.1-cp313-cp313-win_amd64.whl (176 kB)\n",
      "Using cached cffi-1.17.1-cp313-cp313-win_amd64.whl (182 kB)\n",
      "Downloading soupsieve-2.7-py3-none-any.whl (36 kB)\n",
      "Downloading typing_extensions-4.14.1-py3-none-any.whl (43 kB)\n",
      "Using cached pycparser-2.22-py3-none-any.whl (117 kB)\n",
      "Building wheels for collected packages: multitasking, peewee\n",
      "  Building wheel for multitasking (pyproject.toml): started\n",
      "  Building wheel for multitasking (pyproject.toml): finished with status 'done'\n",
      "  Created wheel for multitasking: filename=multitasking-0.0.12-py3-none-any.whl size=15703 sha256=5a7b79d0b169e226a4f03befc98d80678c3e5a100bc78d19aee7f84b9511c8c8\n",
      "  Stored in directory: c:\\users\\admin\\appdata\\local\\pip\\cache\\wheels\\1e\\df\\0f\\e2bbb22d689b30c681feb5410ab64a2523437b34c8ecfc6476\n",
      "  Building wheel for peewee (pyproject.toml): started\n",
      "  Building wheel for peewee (pyproject.toml): finished with status 'done'\n",
      "  Created wheel for peewee: filename=peewee-3.18.2-py3-none-any.whl size=139153 sha256=0195e2842dc3b48b30cc69cd29fb04d2edc6bedbb03b0e1458b3acfb10073280\n",
      "  Stored in directory: c:\\users\\admin\\appdata\\local\\pip\\cache\\wheels\\1c\\48\\cc\\00b7d0e7defa21a58915654917c89eaedd32a6e614d8e4ad92\n",
      "Successfully built multitasking peewee\n",
      "Installing collected packages: peewee, multitasking, websockets, typing-extensions, soupsieve, pycparser, protobuf, frozendict, cffi, beautifulsoup4, curl_cffi, yfinance\n",
      "Successfully installed beautifulsoup4-4.13.4 cffi-1.17.1 curl_cffi-0.12.0 frozendict-2.4.6 multitasking-0.0.12 peewee-3.18.2 protobuf-6.31.1 pycparser-2.22 soupsieve-2.7 typing-extensions-4.14.1 websockets-15.0.1 yfinance-0.2.65\n"
     ]
    }
   ],
   "source": [
    "%pip install yfinance"
   ]
  },
  {
   "cell_type": "code",
   "execution_count": 9,
   "id": "96328332",
   "metadata": {},
   "outputs": [],
   "source": [
    "import yfinance as yf\n",
    "import pandas as pd"
   ]
  },
  {
   "cell_type": "markdown",
   "id": "ce99e4b3",
   "metadata": {},
   "source": [
    "TASK 1 : Download Apple stack"
   ]
  },
  {
   "cell_type": "code",
   "execution_count": 83,
   "id": "59cd55ff",
   "metadata": {},
   "outputs": [
    {
     "name": "stderr",
     "output_type": "stream",
     "text": [
      "C:\\Users\\admin\\AppData\\Local\\Temp\\ipykernel_5248\\2606889151.py:2: FutureWarning: YF.download() has changed argument auto_adjust default to True\n",
      "  AAPL_df = yf.download('AAPL', start='2020-07-01', end='2025-07-30')\n",
      "[*********************100%***********************]  1 of 1 completed"
     ]
    },
    {
     "name": "stdout",
     "output_type": "stream",
     "text": [
      "Price           Close       High        Low       Open     Volume\n",
      "Ticker           AAPL       AAPL       AAPL       AAPL       AAPL\n",
      "Date                                                             \n",
      "2020-07-01  88.485023  89.274830  88.436424  88.730473  110737200\n",
      "2020-07-02  88.485023  90.030617  88.370812  89.393913  114041600\n",
      "2020-07-06  90.852013  91.321034  89.884801  89.916395  118655600\n",
      "2020-07-07  90.570107  92.011197  90.458321  91.231114  112424400\n",
      "2020-07-08  92.679497  92.711090  91.461978  91.549468  117092000\n"
     ]
    },
    {
     "name": "stderr",
     "output_type": "stream",
     "text": [
      "\n"
     ]
    }
   ],
   "source": [
    "# Example: Apple (AAPL)\n",
    "AAPL_df = yf.download('AAPL', start='2020-07-01', end='2025-07-30')\n",
    "\n",
    "# Show the first 5 rows\n",
    "print(AAPL_df.head())"
   ]
  },
  {
   "cell_type": "markdown",
   "id": "48ae4e81",
   "metadata": {},
   "source": [
    "TASK 2 : Download TSLA , IBM and MSFT stock"
   ]
  },
  {
   "cell_type": "code",
   "execution_count": 85,
   "id": "4c8c88c6",
   "metadata": {},
   "outputs": [
    {
     "name": "stderr",
     "output_type": "stream",
     "text": [
      "C:\\Users\\admin\\AppData\\Local\\Temp\\ipykernel_5248\\272726808.py:1: FutureWarning: YF.download() has changed argument auto_adjust default to True\n",
      "  TSLA_df = yf.download('TSLA', start='2020-07-01', end='2025-07-30')\n",
      "[*********************100%***********************]  1 of 1 completed\n",
      "C:\\Users\\admin\\AppData\\Local\\Temp\\ipykernel_5248\\272726808.py:2: FutureWarning: YF.download() has changed argument auto_adjust default to True\n",
      "  IBM_df = yf.download('IBM', start='2020-07-01', end='2025-07-30')\n",
      "[*********************100%***********************]  1 of 1 completed\n",
      "C:\\Users\\admin\\AppData\\Local\\Temp\\ipykernel_5248\\272726808.py:3: FutureWarning: YF.download() has changed argument auto_adjust default to True\n",
      "  MSFT_df = yf.download('MSFT', start='2020-07-01', end='2025-07-30')\n",
      "[*********************100%***********************]  1 of 1 completed\n"
     ]
    }
   ],
   "source": [
    "TSLA_df = yf.download('TSLA', start='2020-07-01', end='2025-07-30')\n",
    "IBM_df = yf.download('IBM', start='2020-07-01', end='2025-07-30')\n",
    "MSFT_df = yf.download('MSFT', start='2020-07-01', end='2025-07-30')"
   ]
  },
  {
   "cell_type": "markdown",
   "id": "6b97ce40",
   "metadata": {},
   "source": [
    "TASK 3 : ADD a stock column in all AAPL, TSLA , IBM and MSFT DF"
   ]
  },
  {
   "cell_type": "code",
   "execution_count": 86,
   "id": "da687e58",
   "metadata": {},
   "outputs": [],
   "source": [
    "AAPL_df['Stock'] = 'AAPL'\n",
    "TSLA_df['Stock'] = 'TSLA'\n",
    "IBM_df['Stock'] = 'IBM'\n",
    "MSFT_df['Stock'] = 'MSFT'"
   ]
  },
  {
   "cell_type": "markdown",
   "id": "c8861fb3",
   "metadata": {},
   "source": [
    "TASK 4 : Move STOCK to first column"
   ]
  },
  {
   "cell_type": "code",
   "execution_count": 87,
   "id": "45f80841",
   "metadata": {},
   "outputs": [],
   "source": [
    "AAPL_df = AAPL_df[['Stock','Open', 'High', 'Low', 'Close', 'Volume']]\n",
    "TSLA_df = TSLA_df[['Stock', 'Open', 'High', 'Low', 'Close', 'Volume']]\n",
    "IBM_df = IBM_df[['Stock', 'Open', 'High', 'Low', 'Close', 'Volume']]\n",
    "MSFT_df = MSFT_df[['Stock', 'Open', 'High', 'Low', 'Close','Volume']]\n"
   ]
  },
  {
   "cell_type": "markdown",
   "id": "ee92bf76",
   "metadata": {},
   "source": [
    "TASK 4 : Create multi column index using date and stock"
   ]
  },
  {
   "cell_type": "code",
   "execution_count": 88,
   "id": "553e2b2b",
   "metadata": {},
   "outputs": [],
   "source": [
    "AAPL_df.reset_index(inplace=True)\n",
    "TSLA_df.reset_index(inplace=True)\n",
    "IBM_df.reset_index(inplace=True)\n",
    "MSFT_df.reset_index(inplace=True)"
   ]
  },
  {
   "cell_type": "code",
   "execution_count": 89,
   "id": "71865b82",
   "metadata": {},
   "outputs": [],
   "source": [
    "AAPL_df.set_index(['Date','Stock'], inplace=True)\n",
    "TSLA_df.set_index(['Date','Stock'], inplace=True)\n",
    "IBM_df.set_index(['Date','Stock'], inplace=True)\n",
    "MSFT_df.set_index(['Date','Stock'], inplace=True)"
   ]
  },
  {
   "cell_type": "markdown",
   "id": "7188b9f0",
   "metadata": {},
   "source": [
    "TASK 5 : Combine the four separate dataFrames into one combined dataFrame df that holds the information for all four stocks\n"
   ]
  },
  {
   "cell_type": "code",
   "execution_count": 92,
   "id": "b336524c",
   "metadata": {},
   "outputs": [
    {
     "name": "stderr",
     "output_type": "stream",
     "text": [
      "C:\\Users\\admin\\AppData\\Local\\Temp\\ipykernel_5248\\2297945390.py:2: SettingWithCopyWarning: \n",
      "A value is trying to be set on a copy of a slice from a DataFrame\n",
      "\n",
      "See the caveats in the documentation: https://pandas.pydata.org/pandas-docs/stable/user_guide/indexing.html#returning-a-view-versus-a-copy\n",
      "  AAPL_df.rename(columns={'Open': 'Open_Price', 'Close': 'Close_Price'}, inplace=True)\n"
     ]
    }
   ],
   "source": [
    "#change column names for AAPL_df before concat all dataframes\n",
    "AAPL_df.rename(columns={'Open': 'Open_Price', 'Close': 'Close_Price'}, inplace=True)"
   ]
  },
  {
   "cell_type": "code",
   "execution_count": 93,
   "id": "bc8e868a",
   "metadata": {},
   "outputs": [
    {
     "data": {
      "text/html": [
       "<div>\n",
       "<style scoped>\n",
       "    .dataframe tbody tr th:only-of-type {\n",
       "        vertical-align: middle;\n",
       "    }\n",
       "\n",
       "    .dataframe tbody tr th {\n",
       "        vertical-align: top;\n",
       "    }\n",
       "\n",
       "    .dataframe thead tr th {\n",
       "        text-align: left;\n",
       "    }\n",
       "\n",
       "    .dataframe thead tr:last-of-type th {\n",
       "        text-align: right;\n",
       "    }\n",
       "</style>\n",
       "<table border=\"1\" class=\"dataframe\">\n",
       "  <thead>\n",
       "    <tr>\n",
       "      <th></th>\n",
       "      <th>Price</th>\n",
       "      <th>Open_Price</th>\n",
       "      <th>High</th>\n",
       "      <th>Low</th>\n",
       "      <th>Close_Price</th>\n",
       "      <th>Volume</th>\n",
       "    </tr>\n",
       "    <tr>\n",
       "      <th></th>\n",
       "      <th>Ticker</th>\n",
       "      <th>AAPL</th>\n",
       "      <th>AAPL</th>\n",
       "      <th>AAPL</th>\n",
       "      <th>AAPL</th>\n",
       "      <th>AAPL</th>\n",
       "    </tr>\n",
       "    <tr>\n",
       "      <th>Date</th>\n",
       "      <th>Stock</th>\n",
       "      <th></th>\n",
       "      <th></th>\n",
       "      <th></th>\n",
       "      <th></th>\n",
       "      <th></th>\n",
       "    </tr>\n",
       "  </thead>\n",
       "  <tbody>\n",
       "    <tr>\n",
       "      <th>2020-07-01</th>\n",
       "      <th>AAPL</th>\n",
       "      <td>88.730473</td>\n",
       "      <td>89.274830</td>\n",
       "      <td>88.436424</td>\n",
       "      <td>88.485023</td>\n",
       "      <td>110737200</td>\n",
       "    </tr>\n",
       "    <tr>\n",
       "      <th>2020-07-02</th>\n",
       "      <th>AAPL</th>\n",
       "      <td>89.393913</td>\n",
       "      <td>90.030617</td>\n",
       "      <td>88.370812</td>\n",
       "      <td>88.485023</td>\n",
       "      <td>114041600</td>\n",
       "    </tr>\n",
       "    <tr>\n",
       "      <th>2020-07-06</th>\n",
       "      <th>AAPL</th>\n",
       "      <td>89.916395</td>\n",
       "      <td>91.321034</td>\n",
       "      <td>89.884801</td>\n",
       "      <td>90.852013</td>\n",
       "      <td>118655600</td>\n",
       "    </tr>\n",
       "    <tr>\n",
       "      <th>2020-07-07</th>\n",
       "      <th>AAPL</th>\n",
       "      <td>91.231114</td>\n",
       "      <td>92.011197</td>\n",
       "      <td>90.458321</td>\n",
       "      <td>90.570107</td>\n",
       "      <td>112424400</td>\n",
       "    </tr>\n",
       "    <tr>\n",
       "      <th>2020-07-08</th>\n",
       "      <th>AAPL</th>\n",
       "      <td>91.549468</td>\n",
       "      <td>92.711090</td>\n",
       "      <td>91.461978</td>\n",
       "      <td>92.679497</td>\n",
       "      <td>117092000</td>\n",
       "    </tr>\n",
       "  </tbody>\n",
       "</table>\n",
       "</div>"
      ],
      "text/plain": [
       "Price            Open_Price       High        Low Close_Price     Volume\n",
       "Ticker                 AAPL       AAPL       AAPL        AAPL       AAPL\n",
       "Date       Stock                                                        \n",
       "2020-07-01 AAPL   88.730473  89.274830  88.436424   88.485023  110737200\n",
       "2020-07-02 AAPL   89.393913  90.030617  88.370812   88.485023  114041600\n",
       "2020-07-06 AAPL   89.916395  91.321034  89.884801   90.852013  118655600\n",
       "2020-07-07 AAPL   91.231114  92.011197  90.458321   90.570107  112424400\n",
       "2020-07-08 AAPL   91.549468  92.711090  91.461978   92.679497  117092000"
      ]
     },
     "execution_count": 93,
     "metadata": {},
     "output_type": "execute_result"
    }
   ],
   "source": [
    "AAPL_df.head()"
   ]
  }
 ],
 "metadata": {
  "kernelspec": {
   "display_name": "IITDelhiAIML (3.13.1)",
   "language": "python",
   "name": "python3"
  },
  "language_info": {
   "codemirror_mode": {
    "name": "ipython",
    "version": 3
   },
   "file_extension": ".py",
   "mimetype": "text/x-python",
   "name": "python",
   "nbconvert_exporter": "python",
   "pygments_lexer": "ipython3",
   "version": "3.13.1"
  }
 },
 "nbformat": 4,
 "nbformat_minor": 5
}
