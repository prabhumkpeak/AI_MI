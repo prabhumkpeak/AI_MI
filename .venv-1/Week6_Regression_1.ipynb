{
 "cells": [
  {
   "cell_type": "markdown",
   "id": "c838d3b9",
   "metadata": {},
   "source": [
    "# Week 6 – Regression\n",
    "**IIT Delhi AI/ML Course – Applied & Mathematical View**\n",
    "\n",
    "This notebook covers Regression concepts step-by-step, combining IIT lecture notes with Scikit-learn practical examples."
   ]
  },
  {
   "cell_type": "markdown",
   "id": "23d7f720",
   "metadata": {},
   "source": [
    "## 1. Introduction\n",
    "Regression is a supervised learning method for predicting a continuous numeric value from one or more features.\n",
    "**Examples:**\n",
    "- Predicting house prices from size, location, rooms\n",
    "- Predicting sales revenue from advertising spend\n",
    "- Predicting fare amount from passenger details in Titanic dataset\n",
    "\n",
    "**General equation:**\n",
    "$y = \\beta_0 + \\beta_1 x + \\epsilon$"
   ]
  },
  {
   "cell_type": "markdown",
   "id": "1687f86e",
   "metadata": {},
   "source": [
    "## 2. Simple Linear Regression\n",
    "**Model equation:**\n",
    "$y = \\beta_0 + \\beta_1 x + \\epsilon$\n",
    "\n",
    "**Estimating coefficients (Least Squares):**\n",
    "$\\beta_1 = \\frac{\\sum (x_i - \\bar{x})(y_i - \\bar{y})}{\\sum (x_i - \\bar{x})^2}$\n",
    "$\\beta_0 = \\bar{y} - \\beta_1 \\bar{x}$\n",
    "The goal is to minimize SSE (Sum of Squared Errors):\n",
    "$SSE = \\sum (y_i - \\hat{y}_i)^2$"
   ]
  },
  {
   "cell_type": "code",
   "execution_count": null,
   "id": "96e0a80b",
   "metadata": {},
   "outputs": [],
   "source": [
    "\n",
    "import pandas as pd\n",
    "import seaborn as sns\n",
    "import matplotlib.pyplot as plt\n",
    "from sklearn.linear_model import LinearRegression\n",
    "\n",
    "# Load Titanic dataset\n",
    "titanic = sns.load_dataset('titanic').dropna(subset=['age', 'fare'])\n",
    "\n",
    "X = titanic[['age']]  # Feature\n",
    "y = titanic['fare']   # Target\n",
    "\n",
    "model = LinearRegression()\n",
    "model.fit(X, y)\n",
    "\n",
    "print(\"Intercept:\", model.intercept_)\n",
    "print(\"Slope:\", model.coef_)\n",
    "\n",
    "# Predictions\n",
    "titanic['pred_fare'] = model.predict(X)\n",
    "\n",
    "# Plot regression line\n",
    "plt.figure(figsize=(6,4))\n",
    "sns.scatterplot(x='age', y='fare', data=titanic, alpha=0.5)\n",
    "sns.lineplot(x='age', y='pred_fare', data=titanic, color='red')\n",
    "plt.title(\"Linear Regression: Age vs Fare\")\n",
    "plt.show()\n"
   ]
  },
  {
   "cell_type": "markdown",
   "id": "0f117274",
   "metadata": {},
   "source": [
    "## 3. Multiple Linear Regression\n",
    "When there are multiple independent variables:\n",
    "$y = \\beta_0 + \\beta_1 x_1 + \\beta_2 x_2 + ... + \\beta_n x_n + \\epsilon$"
   ]
  },
  {
   "cell_type": "code",
   "execution_count": null,
   "id": "804b07ae",
   "metadata": {},
   "outputs": [],
   "source": [
    "\n",
    "titanic['sex'] = titanic['sex'].map({'male':0, 'female':1})\n",
    "X = titanic[['age', 'pclass', 'sex']]\n",
    "y = titanic['fare']\n",
    "\n",
    "model = LinearRegression()\n",
    "model.fit(X, y)\n",
    "\n",
    "print(\"Intercept:\", model.intercept_)\n",
    "print(\"Coefficients:\", model.coef_)\n"
   ]
  },
  {
   "cell_type": "markdown",
   "id": "b1c4cc00",
   "metadata": {},
   "source": [
    "## 4. Assumptions of Linear Regression\n",
    "1. **Linearity** – Relationship between X and Y is linear\n",
    "2. **Independence** – Observations are independent\n",
    "3. **Homoscedasticity** – Constant variance of errors\n",
    "4. **Normality of errors** – Residuals follow normal distribution\n",
    "5. **No multicollinearity** – For multiple regression"
   ]
  },
  {
   "cell_type": "markdown",
   "id": "27f204a8",
   "metadata": {},
   "source": [
    "## 5. Evaluation Metrics\n",
    "- **R² Score:** Proportion of variance explained\n",
    "- **MSE:** Mean Squared Error\n",
    "- **RMSE:** Root Mean Squared Error\n",
    "- **MAE:** Mean Absolute Error"
   ]
  },
  {
   "cell_type": "code",
   "execution_count": null,
   "id": "c687ab8d",
   "metadata": {},
   "outputs": [],
   "source": [
    "\n",
    "from sklearn.metrics import r2_score, mean_squared_error, mean_absolute_error\n",
    "import numpy as np\n",
    "\n",
    "y_pred = model.predict(X)\n",
    "print(\"R²:\", r2_score(y, y_pred))\n",
    "print(\"MSE:\", mean_squared_error(y, y_pred))\n",
    "print(\"RMSE:\", np.sqrt(mean_squared_error(y, y_pred)))\n",
    "print(\"MAE:\", mean_absolute_error(y, y_pred))\n"
   ]
  },
  {
   "cell_type": "markdown",
   "id": "12e3c124",
   "metadata": {},
   "source": [
    "## 6. Practical Tips\n",
    "- Visualize residuals to check assumptions\n",
    "- Scale features for gradient descent models\n",
    "- Use regularization (Ridge/Lasso) if overfitting occurs"
   ]
  },
  {
   "cell_type": "markdown",
   "id": "d01e6a0b",
   "metadata": {},
   "source": [
    "## 7. Summary\n",
    "- Regression predicts continuous values\n",
    "- Simple regression: one predictor\n",
    "- Multiple regression: several predictors\n",
    "- Evaluate with R², MSE, RMSE, MAE\n",
    "- Check assumptions before trusting results"
   ]
  }
 ],
 "metadata": {},
 "nbformat": 4,
 "nbformat_minor": 5
}
